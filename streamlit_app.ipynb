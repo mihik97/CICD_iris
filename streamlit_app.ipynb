{
 "cells": [
  {
   "cell_type": "code",
   "execution_count": 1,
   "id": "c8d11909-4f6c-4816-a5e3-8e19b2eb5553",
   "metadata": {},
   "outputs": [],
   "source": [
    "import streamlit as st\n",
    "import joblib\n",
    "import requests"
   ]
  },
  {
   "cell_type": "code",
   "execution_count": 2,
   "id": "b89e9204-8a28-4d9b-b7fc-c11f30d5248a",
   "metadata": {},
   "outputs": [],
   "source": [
    "# Load trained model\n",
    "model = joblib.load(\"model/random_forest_model.pkl\")"
   ]
  },
  {
   "cell_type": "code",
   "execution_count": 3,
   "id": "2dbad7c3-db19-4e7f-9259-ee4b534d7d3f",
   "metadata": {},
   "outputs": [],
   "source": [
    "# OpenWeather API Configuration\n",
    "OPENWEATHER_API_KEY = \"709b78ab4fd51633c71ae1004f89279b\""
   ]
  },
  {
   "cell_type": "code",
   "execution_count": 4,
   "id": "c5aeaa9f-dbae-482d-90ad-6e4df7e8f98a",
   "metadata": {},
   "outputs": [],
   "source": [
    "def get_weather(city, state, country):\n",
    "    \"\"\"Fetch weather data from OpenWeather API.\"\"\"\n",
    "    url = f\"http://api.openweathermap.org/data/2.5/weather?q={city},{state},{country}&appid={OPENWEATHER_API_KEY}&units=metric\"\n",
    "    response = requests.get(url)\n",
    "    \n",
    "    if response.status_code == 200:\n",
    "        data = response.json()\n",
    "        temp = data[\"main\"][\"temp\"]\n",
    "        humidity = data[\"main\"][\"humidity\"]\n",
    "        \n",
    "        # Choose weather emoji based on temperature\n",
    "        if temp > 30:\n",
    "            temp_emoji = \"🔥\"\n",
    "        elif temp > 20:\n",
    "            temp_emoji = \"☀️\"\n",
    "        elif temp > 10:\n",
    "            temp_emoji = \"🌤️\"\n",
    "        else:\n",
    "            temp_emoji = \"❄️\"\n",
    "\n",
    "        return f\"{temp}°C {temp_emoji}\", f\"{humidity}% 💧\"\n",
    "    else:\n",
    "        return \"N/A\", \"N/A\""
   ]
  },
  {
   "cell_type": "code",
   "execution_count": 6,
   "id": "4a649d2f-2754-49ce-8330-f7f7d5822888",
   "metadata": {},
   "outputs": [
    {
     "name": "stderr",
     "output_type": "stream",
     "text": [
      "2025-02-20 14:34:06.488 Thread 'MainThread': missing ScriptRunContext! This warning can be ignored when running in bare mode.\n",
      "2025-02-20 14:34:06.488 Thread 'MainThread': missing ScriptRunContext! This warning can be ignored when running in bare mode.\n",
      "2025-02-20 14:34:06.503 Thread 'MainThread': missing ScriptRunContext! This warning can be ignored when running in bare mode.\n",
      "2025-02-20 14:34:06.504 Thread 'MainThread': missing ScriptRunContext! This warning can be ignored when running in bare mode.\n",
      "2025-02-20 14:34:06.505 Thread 'MainThread': missing ScriptRunContext! This warning can be ignored when running in bare mode.\n",
      "2025-02-20 14:34:06.507 Thread 'MainThread': missing ScriptRunContext! This warning can be ignored when running in bare mode.\n",
      "2025-02-20 14:34:06.507 Thread 'MainThread': missing ScriptRunContext! This warning can be ignored when running in bare mode.\n",
      "2025-02-20 14:34:06.508 Thread 'MainThread': missing ScriptRunContext! This warning can be ignored when running in bare mode.\n",
      "2025-02-20 14:34:06.509 Thread 'MainThread': missing ScriptRunContext! This warning can be ignored when running in bare mode.\n",
      "2025-02-20 14:34:06.509 Thread 'MainThread': missing ScriptRunContext! This warning can be ignored when running in bare mode.\n",
      "2025-02-20 14:34:06.509 Thread 'MainThread': missing ScriptRunContext! This warning can be ignored when running in bare mode.\n",
      "2025-02-20 14:34:06.510 Thread 'MainThread': missing ScriptRunContext! This warning can be ignored when running in bare mode.\n",
      "2025-02-20 14:34:06.511 Thread 'MainThread': missing ScriptRunContext! This warning can be ignored when running in bare mode.\n",
      "2025-02-20 14:34:06.512 Thread 'MainThread': missing ScriptRunContext! This warning can be ignored when running in bare mode.\n",
      "2025-02-20 14:34:06.513 Thread 'MainThread': missing ScriptRunContext! This warning can be ignored when running in bare mode.\n",
      "2025-02-20 14:34:06.514 Thread 'MainThread': missing ScriptRunContext! This warning can be ignored when running in bare mode.\n",
      "2025-02-20 14:34:06.515 Thread 'MainThread': missing ScriptRunContext! This warning can be ignored when running in bare mode.\n",
      "2025-02-20 14:34:06.515 Thread 'MainThread': missing ScriptRunContext! This warning can be ignored when running in bare mode.\n",
      "2025-02-20 14:34:06.516 Thread 'MainThread': missing ScriptRunContext! This warning can be ignored when running in bare mode.\n",
      "2025-02-20 14:34:06.516 Thread 'MainThread': missing ScriptRunContext! This warning can be ignored when running in bare mode.\n",
      "2025-02-20 14:34:06.517 Thread 'MainThread': missing ScriptRunContext! This warning can be ignored when running in bare mode.\n",
      "2025-02-20 14:34:06.517 Thread 'MainThread': missing ScriptRunContext! This warning can be ignored when running in bare mode.\n",
      "2025-02-20 14:34:06.518 Thread 'MainThread': missing ScriptRunContext! This warning can be ignored when running in bare mode.\n",
      "2025-02-20 14:34:06.520 Thread 'MainThread': missing ScriptRunContext! This warning can be ignored when running in bare mode.\n",
      "2025-02-20 14:34:06.520 Thread 'MainThread': missing ScriptRunContext! This warning can be ignored when running in bare mode.\n",
      "2025-02-20 14:34:06.521 Thread 'MainThread': missing ScriptRunContext! This warning can be ignored when running in bare mode.\n",
      "2025-02-20 14:34:06.523 Thread 'MainThread': missing ScriptRunContext! This warning can be ignored when running in bare mode.\n",
      "2025-02-20 14:34:06.524 Thread 'MainThread': missing ScriptRunContext! This warning can be ignored when running in bare mode.\n",
      "2025-02-20 14:34:06.524 Thread 'MainThread': missing ScriptRunContext! This warning can be ignored when running in bare mode.\n",
      "2025-02-20 14:34:06.525 Thread 'MainThread': missing ScriptRunContext! This warning can be ignored when running in bare mode.\n",
      "2025-02-20 14:34:06.526 Thread 'MainThread': missing ScriptRunContext! This warning can be ignored when running in bare mode.\n",
      "2025-02-20 14:34:06.527 Thread 'MainThread': missing ScriptRunContext! This warning can be ignored when running in bare mode.\n",
      "2025-02-20 14:34:06.527 Thread 'MainThread': missing ScriptRunContext! This warning can be ignored when running in bare mode.\n",
      "2025-02-20 14:34:06.528 Thread 'MainThread': missing ScriptRunContext! This warning can be ignored when running in bare mode.\n",
      "2025-02-20 14:34:06.529 Thread 'MainThread': missing ScriptRunContext! This warning can be ignored when running in bare mode.\n",
      "2025-02-20 14:34:06.530 Thread 'MainThread': missing ScriptRunContext! This warning can be ignored when running in bare mode.\n",
      "2025-02-20 14:34:06.530 Thread 'MainThread': missing ScriptRunContext! This warning can be ignored when running in bare mode.\n",
      "2025-02-20 14:34:06.530 Thread 'MainThread': missing ScriptRunContext! This warning can be ignored when running in bare mode.\n",
      "2025-02-20 14:34:06.530 Thread 'MainThread': missing ScriptRunContext! This warning can be ignored when running in bare mode.\n",
      "2025-02-20 14:34:06.530 Thread 'MainThread': missing ScriptRunContext! This warning can be ignored when running in bare mode.\n",
      "2025-02-20 14:34:06.530 Thread 'MainThread': missing ScriptRunContext! This warning can be ignored when running in bare mode.\n",
      "2025-02-20 14:34:06.530 Thread 'MainThread': missing ScriptRunContext! This warning can be ignored when running in bare mode.\n",
      "2025-02-20 14:34:06.530 Thread 'MainThread': missing ScriptRunContext! This warning can be ignored when running in bare mode.\n",
      "2025-02-20 14:34:06.530 Thread 'MainThread': missing ScriptRunContext! This warning can be ignored when running in bare mode.\n",
      "2025-02-20 14:34:06.530 Thread 'MainThread': missing ScriptRunContext! This warning can be ignored when running in bare mode.\n",
      "2025-02-20 14:34:06.536 Thread 'MainThread': missing ScriptRunContext! This warning can be ignored when running in bare mode.\n",
      "2025-02-20 14:34:06.537 Thread 'MainThread': missing ScriptRunContext! This warning can be ignored when running in bare mode.\n",
      "2025-02-20 14:34:06.538 Thread 'MainThread': missing ScriptRunContext! This warning can be ignored when running in bare mode.\n",
      "2025-02-20 14:34:06.539 Thread 'MainThread': missing ScriptRunContext! This warning can be ignored when running in bare mode.\n",
      "2025-02-20 14:34:06.540 Thread 'MainThread': missing ScriptRunContext! This warning can be ignored when running in bare mode.\n",
      "2025-02-20 14:34:06.540 Thread 'MainThread': missing ScriptRunContext! This warning can be ignored when running in bare mode.\n",
      "2025-02-20 14:34:06.541 Thread 'MainThread': missing ScriptRunContext! This warning can be ignored when running in bare mode.\n",
      "2025-02-20 14:34:06.543 Thread 'MainThread': missing ScriptRunContext! This warning can be ignored when running in bare mode.\n",
      "2025-02-20 14:34:06.544 Thread 'MainThread': missing ScriptRunContext! This warning can be ignored when running in bare mode.\n",
      "2025-02-20 14:34:06.545 Thread 'MainThread': missing ScriptRunContext! This warning can be ignored when running in bare mode.\n",
      "2025-02-20 14:34:06.545 Thread 'MainThread': missing ScriptRunContext! This warning can be ignored when running in bare mode.\n",
      "2025-02-20 14:34:06.546 Thread 'MainThread': missing ScriptRunContext! This warning can be ignored when running in bare mode.\n",
      "2025-02-20 14:34:06.547 Thread 'MainThread': missing ScriptRunContext! This warning can be ignored when running in bare mode.\n",
      "2025-02-20 14:34:06.547 Thread 'MainThread': missing ScriptRunContext! This warning can be ignored when running in bare mode.\n",
      "2025-02-20 14:34:06.547 Thread 'MainThread': missing ScriptRunContext! This warning can be ignored when running in bare mode.\n",
      "2025-02-20 14:34:06.549 Thread 'MainThread': missing ScriptRunContext! This warning can be ignored when running in bare mode.\n",
      "2025-02-20 14:34:06.549 Thread 'MainThread': missing ScriptRunContext! This warning can be ignored when running in bare mode.\n",
      "2025-02-20 14:34:06.550 Thread 'MainThread': missing ScriptRunContext! This warning can be ignored when running in bare mode.\n",
      "2025-02-20 14:34:06.551 Thread 'MainThread': missing ScriptRunContext! This warning can be ignored when running in bare mode.\n"
     ]
    }
   ],
   "source": [
    "# Streamlit UI\n",
    "st.set_page_config(page_title=\"ML Model Deployment\", layout=\"wide\")\n",
    "\n",
    "# Left Column (Model Input)\n",
    "col1, col2 = st.columns([2, 1])\n",
    "\n",
    "with col1:\n",
    "    st.title(\"🌸 Iris Flower Classification\")\n",
    "    st.write(\"Enter feature values to predict the Iris species.\")\n",
    "\n",
    "    # User Input\n",
    "    sepal_length = st.number_input(\"Sepal Length\", min_value=0.0, max_value=10.0, value=5.1)\n",
    "    sepal_width = st.number_input(\"Sepal Width\", min_value=0.0, max_value=10.0, value=3.5)\n",
    "    petal_length = st.number_input(\"Petal Length\", min_value=0.0, max_value=10.0, value=1.4)\n",
    "    petal_width = st.number_input(\"Petal Width\", min_value=0.0, max_value=10.0, value=0.2)\n",
    "\n",
    "    # Make Prediction\n",
    "    if st.button(\"Predict\"):\n",
    "        features = [[sepal_length, sepal_width, petal_length, petal_width]]\n",
    "        prediction = model.predict(features)[0]\n",
    "        st.success(f\"Predicted Species: **{prediction}** 🌼\")\n",
    "\n",
    "# Right Column (Weather Widget)\n",
    "with col2:\n",
    "    st.title(\"☁️ Live Weather\")\n",
    "    \n",
    "    country = st.text_input(\"Country\", \"India\")\n",
    "    state = st.text_input(\"State\", \"Haryana\")\n",
    "    city = st.text_input(\"City\", \"Gurgaon\")\n",
    "\n",
    "    if st.button(\"Get Weather\"):\n",
    "        temp, humidity = get_weather(city, state, country)\n",
    "        st.metric(label=\"Temperature\", value=temp)\n",
    "        st.metric(label=\"Humidity\", value=humidity)"
   ]
  },
  {
   "cell_type": "code",
   "execution_count": 10,
   "id": "cfa501b3-5da5-44c7-a63c-b070262b6990",
   "metadata": {},
   "outputs": [
    {
     "ename": "SyntaxError",
     "evalue": "invalid syntax (3737097518.py, line 1)",
     "output_type": "error",
     "traceback": [
      "\u001b[1;36m  Cell \u001b[1;32mIn[10], line 1\u001b[1;36m\u001b[0m\n\u001b[1;33m    streamlit run app.py\u001b[0m\n\u001b[1;37m              ^\u001b[0m\n\u001b[1;31mSyntaxError\u001b[0m\u001b[1;31m:\u001b[0m invalid syntax\n"
     ]
    }
   ],
   "source": [
    "streamlit run app.py"
   ]
  },
  {
   "cell_type": "code",
   "execution_count": null,
   "id": "7e4562bd-47ac-4702-985a-291a605f34f3",
   "metadata": {},
   "outputs": [],
   "source": []
  }
 ],
 "metadata": {
  "kernelspec": {
   "display_name": "Python 3 (ipykernel)",
   "language": "python",
   "name": "python3"
  },
  "language_info": {
   "codemirror_mode": {
    "name": "ipython",
    "version": 3
   },
   "file_extension": ".py",
   "mimetype": "text/x-python",
   "name": "python",
   "nbconvert_exporter": "python",
   "pygments_lexer": "ipython3",
   "version": "3.12.2"
  }
 },
 "nbformat": 4,
 "nbformat_minor": 5
}
