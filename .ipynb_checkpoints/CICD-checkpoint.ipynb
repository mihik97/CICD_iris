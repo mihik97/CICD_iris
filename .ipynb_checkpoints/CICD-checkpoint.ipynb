{
 "cells": [
  {
   "cell_type": "markdown",
   "id": "049e59c4-16f8-414f-aee3-bd3fb305088d",
   "metadata": {},
   "source": [
    "preprocess.py"
   ]
  },
  {
   "cell_type": "raw",
   "id": "3d7428f0-ed17-4023-9155-70c4ca6d6546",
   "metadata": {},
   "source": [
    "preprocessing script"
   ]
  },
  {
   "cell_type": "code",
   "execution_count": 4,
   "id": "27bd1229-837a-4144-ad1a-0628426c4eb6",
   "metadata": {},
   "outputs": [],
   "source": [
    "# src/preprocess.py\n",
    "\n",
    "import pandas as pd\n",
    "from sklearn.model_selection import train_test_split\n",
    "\n",
    "def load_data(filepath):\n",
    "    data = pd.read_csv(filepath)\n",
    "    return data\n",
    "\n",
    "def preprocess_data(data):\n",
    "    X = data.drop('species', axis=1)\n",
    "    y = data['species']\n",
    "    X_train, X_test, y_train, y_test = train_test_split(X, y, test_size=0.2, random_state=420)\n",
    "    return X_train, X_test, y_train, y_test\n",
    "\n",
    "if __name__ == \"__main__\":\n",
    "    data = load_data('data/iris_data.csv')\n",
    "    X_train, X_test, y_train, y_test = preprocess_data(data)\n",
    "    # Save preprocessed data if needed"
   ]
  },
  {
   "cell_type": "raw",
   "id": "829d1652-6813-4558-836c-7ce3f057daa5",
   "metadata": {},
   "source": [
    "train script"
   ]
  },
  {
   "cell_type": "code",
   "execution_count": 6,
   "id": "9397b08b-3b99-4f23-893b-e044a241cdfc",
   "metadata": {},
   "outputs": [],
   "source": [
    "# src/train.py\n",
    "\n",
    "import joblib\n",
    "from sklearn.ensemble import RandomForestClassifier\n",
    "# from preprocess import load_data, preprocess_data            #loading from preprocessing script\n",
    "\n",
    "def train_model(X_train, y_train):\n",
    "    model = RandomForestClassifier(n_estimators=100, random_state=420)\n",
    "    model.fit(X_train, y_train)\n",
    "    return model\n",
    "\n",
    "if __name__ == \"__main__\":\n",
    "    data = load_data('data/iris_data.csv')\n",
    "    X_train, X_test, y_train, y_test = preprocess_data(data)\n",
    "    model = train_model(X_train, y_train)\n",
    "    joblib.dump(model, 'model/random_forest_model.pkl')"
   ]
  },
  {
   "cell_type": "raw",
   "id": "dfc937b9-c4e5-4432-8887-8c4a10cc1611",
   "metadata": {},
   "source": [
    "evaluation script    "
   ]
  },
  {
   "cell_type": "code",
   "execution_count": 8,
   "id": "0ff2e622-f1c1-4743-8624-51b6f08ef732",
   "metadata": {},
   "outputs": [
    {
     "name": "stdout",
     "output_type": "stream",
     "text": [
      "Model Accuracy: 100.00%\n"
     ]
    }
   ],
   "source": [
    "# src/evaluate.py\n",
    "\n",
    "import joblib\n",
    "from sklearn.metrics import accuracy_score\n",
    "# from preprocess import load_data, preprocess_data                #loading from preprocessing script\n",
    "\n",
    "def evaluate_model(model, X_test, y_test):\n",
    "    predictions = model.predict(X_test)\n",
    "    accuracy = accuracy_score(y_test, predictions)\n",
    "    return accuracy\n",
    "\n",
    "if __name__ == \"__main__\":\n",
    "    data = load_data('data/iris_data.csv')\n",
    "    X_train, X_test, y_train, y_test = preprocess_data(data)\n",
    "    model = joblib.load('model/random_forest_model.pkl')\n",
    "    accuracy = evaluate_model(model, X_test, y_test)\n",
    "    print(f\"Model Accuracy: {accuracy * 100:.2f}%\")"
   ]
  },
  {
   "cell_type": "raw",
   "id": "f372a261-cb14-42da-9aa7-c92a12a565b3",
   "metadata": {},
   "source": [
    "test preprocess script"
   ]
  },
  {
   "cell_type": "code",
   "execution_count": 11,
   "id": "8152fc27-0318-4a33-8dee-4ce100b8805d",
   "metadata": {},
   "outputs": [],
   "source": [
    "# tests/test_preprocess.py\n",
    "\n",
    "import pytest\n",
    "# from src.preprocess import load_data, preprocess_data              #loading from preprocessing script\n",
    "\n",
    "def test_load_data():\n",
    "    data = load_data('data/iris_data.csv')\n",
    "    assert not data.empty\n",
    "\n",
    "def test_preprocess_data():\n",
    "    data = load_data('data/iris_data.csv')\n",
    "    X_train, X_test, y_train, y_test = preprocess_data(data)\n",
    "    assert len(X_train) > 0\n",
    "    assert len(X_test) > 0"
   ]
  },
  {
   "cell_type": "code",
   "execution_count": null,
   "id": "73138b8f-3304-4c5b-b5b2-f155cf7f44cf",
   "metadata": {},
   "outputs": [],
   "source": []
  },
  {
   "cell_type": "code",
   "execution_count": null,
   "id": "58411bbb-548b-4948-84eb-32f7a60e8b31",
   "metadata": {},
   "outputs": [],
   "source": []
  }
 ],
 "metadata": {
  "kernelspec": {
   "display_name": "Python 3 (ipykernel)",
   "language": "python",
   "name": "python3"
  },
  "language_info": {
   "codemirror_mode": {
    "name": "ipython",
    "version": 3
   },
   "file_extension": ".py",
   "mimetype": "text/x-python",
   "name": "python",
   "nbconvert_exporter": "python",
   "pygments_lexer": "ipython3",
   "version": "3.12.2"
  }
 },
 "nbformat": 4,
 "nbformat_minor": 5
}
